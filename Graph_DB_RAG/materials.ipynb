{
 "cells": [
  {
   "cell_type": "code",
   "execution_count": null,
   "metadata": {},
   "outputs": [],
   "source": [
    "## "
   ]
  },
  {
   "cell_type": "markdown",
   "metadata": {},
   "source": [
    "## Materials:\n",
    "\n",
    "## Neo4j grapgh RAG \n",
    "\n",
    "## Link: https://medium.com/@manindersingh120996/build-robust-chatbots-with-neo4j-knowledge-graphs-and-llms-54310a281dd2"
   ]
  }
 ],
 "metadata": {
  "language_info": {
   "name": "python"
  }
 },
 "nbformat": 4,
 "nbformat_minor": 2
}
