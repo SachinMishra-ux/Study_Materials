{
 "cells": [
  {
   "cell_type": "code",
   "execution_count": 1,
   "metadata": {},
   "outputs": [],
   "source": [
    "from cassandra.cluster import Cluster\n",
    "from cassandra.auth import PlainTextAuthProvider"
   ]
  },
  {
   "cell_type": "code",
   "execution_count": 10,
   "metadata": {},
   "outputs": [],
   "source": [
    "class CassandraSession:\n",
    "    def __init__(self,cluster_type='local'):\n",
    "        self.cluster_type = cluster_type\n",
    "    \n",
    "    def get_session(self):\n",
    "        try:\n",
    "            if self.cluster_type == 'cloud':\n",
    "                cloud_config= {\n",
    "                    'secure_connect_bundle': 'C:\\Ravis\\Data Science\\Practice\\Cassandra\\secure-connect-Test.zip'\n",
    "                }\n",
    "                auth_provider = PlainTextAuthProvider('ihMLPIrUYsFpBGhDPFPPNTzP', 'XT9.cqTK4mTAyPwM.mp6-1B1IxJP1sCYW9QPPjhTb_z-K,H0IUHIE7+hO9A2xwJnosBEt9tFBId0dF9qU7xxL+-dF86JLKREjDgik0b5YlIBWq7Ssy-SmHt07igw.stL')\n",
    "                cluster = Cluster(cloud=cloud_config, auth_provider=auth_provider)\n",
    "                session_cloud = cluster.connect()\n",
    "                return session_cloud\n",
    "            else:\n",
    "                cluster = Cluster()\n",
    "                session_local = cluster.connect()\n",
    "                return session_local\n",
    "        except Exception as e:\n",
    "            print('Exception occured while connecting ',e)\n",
    "    "
   ]
  },
  {
   "cell_type": "code",
   "execution_count": 11,
   "metadata": {},
   "outputs": [],
   "source": [
    "try:\n",
    "    cassandra = CassandraSession()\n",
    "    session = cassandra.get_session()\n",
    "    row = session.execute(\"select release_version from system.local\").one()\n",
    "    if row:\n",
    "        print(row[0])\n",
    "    else:\n",
    "        print(\"An error occurred.\")\n",
    "except Exception as e:\n",
    "    print('exception occurced ',e)"
   ]
  },
  {
   "cell_type": "code",
   "execution_count": 20,
   "metadata": {},
   "outputs": [
    {
     "name": "stdout",
     "output_type": "stream",
     "text": [
      "Keyspace created.\n"
     ]
    }
   ],
   "source": [
    "# Create Keyspace\n",
    "try:\n",
    "    query = \"CREATE KEYSPACE empmgmt WITH replication = {'class':'SimpleStrategy', 'replication_factor' : 3};\"\n",
    "    session.execute(query)\n",
    "    print('Keyspace created.')\n",
    "except Exception as e:\n",
    "    print('excetion occured ',e)"
   ]
  },
  {
   "cell_type": "code",
   "execution_count": 22,
   "metadata": {},
   "outputs": [
    {
     "name": "stdout",
     "output_type": "stream",
     "text": [
      "Changed keypsace to empmgmt\n"
     ]
    }
   ],
   "source": [
    "# Use Keyspace\n",
    "try:\n",
    "    query = \"USE empmgmt\"\n",
    "    session.execute(query)\n",
    "    print('Changed keypsace to empmgmt')\n",
    "except Exception as e:\n",
    "    print('excetion occured ',e)"
   ]
  },
  {
   "cell_type": "code",
   "execution_count": 16,
   "metadata": {},
   "outputs": [
    {
     "name": "stdout",
     "output_type": "stream",
     "text": [
      "Keyspace altered.\n"
     ]
    }
   ],
   "source": [
    "# Alter Keyspace\n",
    "try:\n",
    "    query = \"ALTER KEYSPACE empmgmt WITH replication = {'class':'SimpleStrategy', 'replication_factor' : 2};\"\n",
    "    session.execute(query)\n",
    "    print('Keyspace altered.')\n",
    "except Exception as e:\n",
    "    print('excetion occured ',e)"
   ]
  },
  {
   "cell_type": "code",
   "execution_count": 19,
   "metadata": {},
   "outputs": [
    {
     "name": "stdout",
     "output_type": "stream",
     "text": [
      "excetion occured  errors={'127.0.0.1:9042': 'Client request timeout. See Session.execute[_async](timeout)'}, last_host=127.0.0.1:9042\n"
     ]
    }
   ],
   "source": [
    "# Drop keyspace\n",
    "try:\n",
    "    query = \"DROP KEYSPACE empmgmt\"\n",
    "    session.execute(query)\n",
    "    print('Keyspace empmgmt dropped.')\n",
    "except Exception as e:\n",
    "    print('excetion occured ',e)"
   ]
  },
  {
   "cell_type": "code",
   "execution_count": 27,
   "metadata": {},
   "outputs": [
    {
     "name": "stdout",
     "output_type": "stream",
     "text": [
      "Table created.\n"
     ]
    }
   ],
   "source": [
    "# Creating Table\n",
    "try:\n",
    "    query = \"\"\"CREATE TABLE Employee( \n",
    "               emp_id int PRIMARY KEY,\n",
    "               emp_name text,\n",
    "               emp_city text,\n",
    "               emp_sal varint,\n",
    "               emp_phone varint)\n",
    "            \"\"\"\n",
    "    session.execute(query)\n",
    "    print('Table created.')\n",
    "except Exception as e:\n",
    "    print('excetion occured ',e)\n"
   ]
  },
  {
   "cell_type": "code",
   "execution_count": 63,
   "metadata": {},
   "outputs": [
    {
     "name": "stdout",
     "output_type": "stream",
     "text": [
      "Table altered.\n"
     ]
    }
   ],
   "source": [
    "# Alter Table add column\n",
    "try:\n",
    "    query = \"ALTER TABLE Employee ADD email set<text>\"\n",
    "    session.execute(query)\n",
    "    print('Table altered.')\n",
    "except Exception as e:\n",
    "    print('excetion occured ',e)"
   ]
  },
  {
   "cell_type": "code",
   "execution_count": 25,
   "metadata": {},
   "outputs": [
    {
     "name": "stdout",
     "output_type": "stream",
     "text": [
      "Table altered.\n"
     ]
    }
   ],
   "source": [
    "# Alter Table drop column\n",
    "try:\n",
    "    query = \"ALTER TABLE Employee DROP email\"\n",
    "    session.execute(query)\n",
    "    print('Table altered.')\n",
    "except Exception as e:\n",
    "    print('excetion occured ',e)"
   ]
  },
  {
   "cell_type": "code",
   "execution_count": 26,
   "metadata": {},
   "outputs": [
    {
     "name": "stdout",
     "output_type": "stream",
     "text": [
      "Table dropped.\n"
     ]
    }
   ],
   "source": [
    "# Drop Table\n",
    "try:\n",
    "    query = \"DROP TABLE Employee\"\n",
    "    session.execute(query)\n",
    "    print('Table dropped.')\n",
    "except Exception as e:\n",
    "    print('excetion occured ',e)"
   ]
  },
  {
   "cell_type": "code",
   "execution_count": 60,
   "metadata": {},
   "outputs": [
    {
     "name": "stdout",
     "output_type": "stream",
     "text": [
      "Index created.\n"
     ]
    }
   ],
   "source": [
    "# Creating index on table\n",
    "try:\n",
    "    query = \"CREATE INDEX emp_index on Employee(emp_city)\"\n",
    "    session.execute(query)\n",
    "    print('Index created.')\n",
    "except Exception as e:\n",
    "    print('excetion occured ',e)"
   ]
  },
  {
   "cell_type": "code",
   "execution_count": 62,
   "metadata": {},
   "outputs": [
    {
     "name": "stdout",
     "output_type": "stream",
     "text": [
      "Record (1, 'Ravi', 'Pune', 7709224868, 20000) inserted.\n",
      "Record (2, 'Pravin', 'Mumabi', 9828563214, 200000) inserted.\n",
      "Record (3, 'rahman', 'chennai', 9848022330, 50000) inserted.\n",
      "Record (4, 'rajeev', 'Pune', 9848022331, 30000) inserted.\n"
     ]
    }
   ],
   "source": [
    "# Insert into table\n",
    "try:\n",
    "    records = [(1,'Ravi','Pune',7709224868,20000),(2,'Pravin','Mumabi',9828563214,200000),\n",
    "    (3,'rahman','chennai',9848022330,50000),(4,'rajeev','Pune',9848022331,30000)]\n",
    "    for record in records:\n",
    "        query = \"\"\" INSERT INTO employee (emp_id, emp_name, emp_city,emp_phone, emp_sal) VALUES(%s,%s,%s,%s,%s)\"\"\"\n",
    "        session.execute(query,record)\n",
    "        print(f'Record {record} inserted.')\n",
    "except Exception as e:\n",
    "    print('excetion occured ',e)"
   ]
  },
  {
   "cell_type": "code",
   "execution_count": 38,
   "metadata": {},
   "outputs": [
    {
     "name": "stdout",
     "output_type": "stream",
     "text": [
      "Row(emp_id=1, emp_city='Pune', emp_name='Ravi Sonawane', emp_phone=7709224868, emp_sal=20000)\n",
      "Row(emp_id=2, emp_city='Mumabi', emp_name='Pravin', emp_phone=9828563214, emp_sal=200000)\n",
      "Row(emp_id=4, emp_city='Pune', emp_name='rajeev', emp_phone=9848022331, emp_sal=30000)\n",
      "Row(emp_id=3, emp_city='chennai', emp_name='rahman', emp_phone=9848022330, emp_sal=50000)\n"
     ]
    }
   ],
   "source": [
    "# Display records from table\n",
    "try:\n",
    "    query = \"SELECT * FROM Employee\"\n",
    "    rows = session.execute(query)\n",
    "    for row in rows:\n",
    "        print(row)\n",
    "except Exception as e:\n",
    "    print('excetion occured ',e)"
   ]
  },
  {
   "cell_type": "code",
   "execution_count": 39,
   "metadata": {},
   "outputs": [
    {
     "name": "stdout",
     "output_type": "stream",
     "text": [
      "Row(emp_id=1, emp_name='Ravi Sonawane', emp_city='Pune')\n",
      "Row(emp_id=2, emp_name='Pravin', emp_city='Mumabi')\n",
      "Row(emp_id=4, emp_name='rajeev', emp_city='Pune')\n",
      "Row(emp_id=3, emp_name='rahman', emp_city='chennai')\n"
     ]
    }
   ],
   "source": [
    "# Display required columns from table\n",
    "try:\n",
    "    query = \"SELECT emp_id,emp_name,emp_city FROM Employee\"\n",
    "    rows = session.execute(query)\n",
    "    for row in rows:\n",
    "        print(row)\n",
    "except Exception as e:\n",
    "    print('excetion occured ',e)"
   ]
  },
  {
   "cell_type": "code",
   "execution_count": 44,
   "metadata": {},
   "outputs": [
    {
     "name": "stdout",
     "output_type": "stream",
     "text": [
      "Row(emp_id=2, emp_name='Pravin', emp_city='Mumabi')\n"
     ]
    }
   ],
   "source": [
    "# Display employess whose emp_sal 50000 using ALLOW FILTERING;\n",
    "try:\n",
    "    query = \"SELECT emp_id,emp_name,emp_city FROM Employee WHERE emp_sal >50000 ALLOW FILTERING\"\n",
    "    rows = session.execute(query)\n",
    "    for row in rows:\n",
    "        print(row)\n",
    "except Exception as e:\n",
    "    print('excetion occured ',e)"
   ]
  },
  {
   "cell_type": "code",
   "execution_count": 56,
   "metadata": {},
   "outputs": [
    {
     "name": "stdout",
     "output_type": "stream",
     "text": [
      "Row(emp_count=4)\n"
     ]
    }
   ],
   "source": [
    "# Display employee count in table\n",
    "try:\n",
    "    query = \"SELECT count(*) as emp_count from Employee\"\n",
    "    rows = session.execute(query)\n",
    "    for row in rows:\n",
    "        print(row)\n",
    "except Exception as e:\n",
    "    print('excetion occured ',e)"
   ]
  },
  {
   "cell_type": "code",
   "execution_count": 33,
   "metadata": {},
   "outputs": [
    {
     "name": "stdout",
     "output_type": "stream",
     "text": [
      "record updated\n"
     ]
    }
   ],
   "source": [
    "# Update record from table\n",
    "try:\n",
    "    query = \"UPDATE Employee SET emp_name='Ravi Sonawane' WHERE emp_id=1\"\n",
    "    session.execute(query)\n",
    "    print('record updated')\n",
    "except Exception as e:\n",
    "    print('excetion occured ',e)"
   ]
  },
  {
   "cell_type": "code",
   "execution_count": 59,
   "metadata": {},
   "outputs": [
    {
     "name": "stdout",
     "output_type": "stream",
     "text": [
      "record deleted\n"
     ]
    }
   ],
   "source": [
    "# Deleting record from table\n",
    "try:\n",
    "    query = \"DELETE FROM Employee WHERE emp_id=1\"\n",
    "    session.execute(query)\n",
    "    print('record deleted')\n",
    "except Exception as e:\n",
    "    print('excetion occured ',e)"
   ]
  },
  {
   "cell_type": "code",
   "execution_count": 61,
   "metadata": {},
   "outputs": [
    {
     "name": "stdout",
     "output_type": "stream",
     "text": [
      "Table truncated.\n"
     ]
    }
   ],
   "source": [
    "# Truncate table\n",
    "try:\n",
    "    query = \"TRUNCATE TABLE  Employee\"\n",
    "    session.execute(query)\n",
    "    print('Table truncated.')\n",
    "except Exception as e:\n",
    "    print('excetion occured ',e)"
   ]
  },
  {
   "cell_type": "code",
   "execution_count": null,
   "metadata": {},
   "outputs": [],
   "source": [
    "# Alter table\n",
    "# Alter Table add column\n",
    "try:\n",
    "    query = \"ALTER TABLE Employee ADD email set<text>\"\n",
    "    session.execute(query)\n",
    "    print('Table altered.')\n",
    "except Exception as e:\n",
    "    print('excetion occured ',e)"
   ]
  },
  {
   "cell_type": "code",
   "execution_count": 70,
   "metadata": {},
   "outputs": [
    {
     "name": "stdout",
     "output_type": "stream",
     "text": [
      "record updated\n"
     ]
    }
   ],
   "source": [
    "# Update table to add emails\n",
    "try:\n",
    "    emails = {'ravi@gail.com','ravi1@gmail.com','ravi2@gmail.com'}\n",
    "    query = \"UPDATE Employee SET email={} WHERE emp_id=1\".format(emails)\n",
    "    session.execute(query)\n",
    "    print('record updated')\n",
    "except Exception as e:\n",
    "    print('excetion occured ',e)"
   ]
  },
  {
   "cell_type": "code",
   "execution_count": null,
   "metadata": {},
   "outputs": [],
   "source": []
  }
 ],
 "metadata": {
  "kernelspec": {
   "display_name": "Python 3",
   "language": "python",
   "name": "python3"
  },
  "language_info": {
   "codemirror_mode": {
    "name": "ipython",
    "version": 3
   },
   "file_extension": ".py",
   "mimetype": "text/x-python",
   "name": "python",
   "nbconvert_exporter": "python",
   "pygments_lexer": "ipython3",
   "version": "3.7.1"
  }
 },
 "nbformat": 4,
 "nbformat_minor": 2
}
