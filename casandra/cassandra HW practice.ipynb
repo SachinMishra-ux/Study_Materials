{
 "cells": [
  {
   "cell_type": "code",
   "execution_count": 1,
   "metadata": {},
   "outputs": [],
   "source": [
    "import cassandra"
   ]
  },
  {
   "cell_type": "code",
   "execution_count": 2,
   "metadata": {},
   "outputs": [],
   "source": [
    "from cassandra.cluster import Cluster\n",
    "clstr= Cluster()\n",
    "session= clstr.connect()"
   ]
  },
  {
   "cell_type": "markdown",
   "metadata": {},
   "source": [
    "# create keyspace"
   ]
  },
  {
   "cell_type": "code",
   "execution_count": 6,
   "metadata": {},
   "outputs": [
    {
     "data": {
      "text/plain": [
       "<cassandra.cluster.ResultSet at 0x23b5df71730>"
      ]
     },
     "execution_count": 6,
     "metadata": {},
     "output_type": "execute_result"
    }
   ],
   "source": [
    "session.execute(\"create keyspace csd_db2 with replication={'class': 'SimpleStrategy', 'replication_factor' : 3}\")"
   ]
  },
  {
   "cell_type": "markdown",
   "metadata": {},
   "source": [
    "# create table"
   ]
  },
  {
   "cell_type": "code",
   "execution_count": 10,
   "metadata": {},
   "outputs": [
    {
     "data": {
      "text/plain": [
       "<cassandra.cluster.ResultSet at 0x23b5df4a1c0>"
      ]
     },
     "execution_count": 10,
     "metadata": {},
     "output_type": "execute_result"
    }
   ],
   "source": [
    "session.execute(\"create table csd_db2.student(studentID int,name text,age int, primary key(studentID))\")"
   ]
  },
  {
   "cell_type": "markdown",
   "metadata": {},
   "source": [
    "# insert values"
   ]
  },
  {
   "cell_type": "code",
   "execution_count": 18,
   "metadata": {},
   "outputs": [
    {
     "data": {
      "text/plain": [
       "<cassandra.cluster.ResultSet at 0x23b5c7f7280>"
      ]
     },
     "execution_count": 18,
     "metadata": {},
     "output_type": "execute_result"
    }
   ],
   "source": [
    "session.execute(\"insert into csd_db2.student(studentID, name, age) values(6,'priya6',59)\")"
   ]
  },
  {
   "cell_type": "code",
   "execution_count": 19,
   "metadata": {},
   "outputs": [
    {
     "name": "stdout",
     "output_type": "stream",
     "text": [
      "Row(studentid=5, age=99, name='priya5')\n",
      "Row(studentid=1, age=26, name='priya')\n",
      "Row(studentid=2, age=2, name='priya1')\n",
      "Row(studentid=4, age=9, name='priya4')\n",
      "Row(studentid=6, age=59, name='priya6')\n",
      "Row(studentid=3, age=29, name='priya3')\n"
     ]
    }
   ],
   "source": [
    "row= session.execute(\"select * from csd_db2.student\")\n",
    "for i in row:\n",
    "    print(i)"
   ]
  },
  {
   "cell_type": "markdown",
   "metadata": {},
   "source": [
    "# allow filtering"
   ]
  },
  {
   "cell_type": "code",
   "execution_count": 21,
   "metadata": {},
   "outputs": [
    {
     "name": "stdout",
     "output_type": "stream",
     "text": [
      "Row(studentid=5, age=99, name='priya5')\n",
      "Row(studentid=1, age=26, name='priya')\n",
      "Row(studentid=6, age=59, name='priya6')\n",
      "Row(studentid=3, age=29, name='priya3')\n"
     ]
    }
   ],
   "source": [
    "row= session.execute(\"select * from csd_db2.student where age>20 allow filtering\")\n",
    "for i in row:\n",
    "    print(i)"
   ]
  },
  {
   "cell_type": "markdown",
   "metadata": {},
   "source": [
    "# BatchStatement"
   ]
  },
  {
   "cell_type": "code",
   "execution_count": 22,
   "metadata": {},
   "outputs": [],
   "source": [
    "from cassandra.query import SimpleStatement, BatchStatement"
   ]
  },
  {
   "cell_type": "code",
   "execution_count": 27,
   "metadata": {},
   "outputs": [
    {
     "data": {
      "text/plain": [
       "<cassandra.cluster.ResultSet at 0x23b5df4aac0>"
      ]
     },
     "execution_count": 27,
     "metadata": {},
     "output_type": "execute_result"
    }
   ],
   "source": [
    "batch=BatchStatement()\n",
    "studentlist=[(7,'priya7',34),(8,'priya8',23)]\n",
    "for i in studentlist:\n",
    "    batch.add(SimpleStatement('insert into csd_db2.student(studentID,name,age) values(%s,%s,%s)'),(i[0],i[1],i[2]))\n",
    "              \n",
    "session.execute(batch)"
   ]
  },
  {
   "cell_type": "code",
   "execution_count": 28,
   "metadata": {},
   "outputs": [
    {
     "name": "stdout",
     "output_type": "stream",
     "text": [
      "Row(studentid=5, age=99, name='priya5')\n",
      "Row(studentid=1, age=26, name='priya')\n",
      "Row(studentid=8, age=23, name='priya8')\n",
      "Row(studentid=2, age=2, name='priya1')\n",
      "Row(studentid=4, age=9, name='priya4')\n",
      "Row(studentid=7, age=34, name='priya7')\n",
      "Row(studentid=6, age=59, name='priya6')\n",
      "Row(studentid=3, age=29, name='priya3')\n"
     ]
    }
   ],
   "source": [
    "row= session.execute(\"select * from csd_db2.student\")\n",
    "for i in row:\n",
    "    print(i)"
   ]
  },
  {
   "cell_type": "markdown",
   "metadata": {},
   "source": [
    "# prepare statement"
   ]
  },
  {
   "cell_type": "code",
   "execution_count": 30,
   "metadata": {},
   "outputs": [
    {
     "data": {
      "text/plain": [
       "<cassandra.cluster.ResultSet at 0x23b5e079ca0>"
      ]
     },
     "execution_count": 30,
     "metadata": {},
     "output_type": "execute_result"
    }
   ],
   "source": [
    "smt=session.prepare('insert into csd_db2.student (studentID,name,age) values(?,?,?)')\n",
    "session.execute(smt.bind([9,'priya9',28]))"
   ]
  },
  {
   "cell_type": "code",
   "execution_count": 33,
   "metadata": {},
   "outputs": [
    {
     "name": "stdout",
     "output_type": "stream",
     "text": [
      "Row(studentid=5, age=99, name='priya5')\n",
      "Row(studentid=1, age=26, name='priya')\n",
      "Row(studentid=8, age=23, name='priya8')\n",
      "Row(studentid=2, age=2, name='priya1')\n",
      "Row(studentid=4, age=9, name='priya4')\n",
      "Row(studentid=7, age=34, name='priya7')\n",
      "Row(studentid=6, age=59, name='priya6')\n",
      "Row(studentid=9, age=28, name='priya9')\n",
      "Row(studentid=3, age=29, name='priya3')\n"
     ]
    }
   ],
   "source": [
    "row=session.execute(\"select * from csd_db2.student\")\n",
    "for i in row:\n",
    "    print(i)"
   ]
  },
  {
   "cell_type": "code",
   "execution_count": 35,
   "metadata": {},
   "outputs": [
    {
     "name": "stdout",
     "output_type": "stream",
     "text": [
      "Row(studentid=5, age=99, name='priya5')\n"
     ]
    }
   ],
   "source": [
    "row=session.execute(\"select * from csd_db2.student where studentID=5\")\n",
    "for i in row:\n",
    "    print(i)"
   ]
  },
  {
   "cell_type": "markdown",
   "metadata": {},
   "source": [
    "# update"
   ]
  },
  {
   "cell_type": "code",
   "execution_count": 36,
   "metadata": {},
   "outputs": [
    {
     "data": {
      "text/plain": [
       "<cassandra.cluster.ResultSet at 0x23b5c76a130>"
      ]
     },
     "execution_count": 36,
     "metadata": {},
     "output_type": "execute_result"
    }
   ],
   "source": [
    "session.execute(\"update csd_db2.student set name='abhi' where studentID=2\")"
   ]
  },
  {
   "cell_type": "code",
   "execution_count": 59,
   "metadata": {},
   "outputs": [
    {
     "name": "stdout",
     "output_type": "stream",
     "text": [
      "Row(studentid=2, age=55, name='abhi')\n"
     ]
    }
   ],
   "source": [
    "row=session.execute(\"select * from csd_db2.student where age=55 allow filtering\")\n",
    "for i in row:\n",
    "    print(i)"
   ]
  },
  {
   "cell_type": "code",
   "execution_count": 38,
   "metadata": {},
   "outputs": [
    {
     "data": {
      "text/plain": [
       "<cassandra.cluster.ResultSet at 0x23b5e073ac0>"
      ]
     },
     "execution_count": 38,
     "metadata": {},
     "output_type": "execute_result"
    }
   ],
   "source": [
    "session.execute(\"update csd_db2.student set name='abhi', age=55 where studentID=2\")"
   ]
  },
  {
   "cell_type": "code",
   "execution_count": 39,
   "metadata": {},
   "outputs": [
    {
     "name": "stdout",
     "output_type": "stream",
     "text": [
      "Row(studentid=2, age=55, name='abhi')\n"
     ]
    }
   ],
   "source": [
    "row=session.execute(\"select * from csd_db2.student where studentID=2\")\n",
    "for i in row:\n",
    "    print(i)"
   ]
  },
  {
   "cell_type": "markdown",
   "metadata": {},
   "source": [
    "# delete"
   ]
  },
  {
   "cell_type": "code",
   "execution_count": 40,
   "metadata": {},
   "outputs": [
    {
     "data": {
      "text/plain": [
       "<cassandra.cluster.ResultSet at 0x23b5e088b50>"
      ]
     },
     "execution_count": 40,
     "metadata": {},
     "output_type": "execute_result"
    }
   ],
   "source": [
    "session.execute(\"delete from csd_db2.student where studentID=9\")"
   ]
  },
  {
   "cell_type": "code",
   "execution_count": 41,
   "metadata": {},
   "outputs": [
    {
     "name": "stdout",
     "output_type": "stream",
     "text": [
      "Row(studentid=5, age=99, name='priya5')\n",
      "Row(studentid=1, age=26, name='priya')\n",
      "Row(studentid=8, age=23, name='priya8')\n",
      "Row(studentid=2, age=55, name='abhi')\n",
      "Row(studentid=4, age=9, name='priya4')\n",
      "Row(studentid=7, age=34, name='priya7')\n",
      "Row(studentid=6, age=59, name='priya6')\n",
      "Row(studentid=3, age=29, name='priya3')\n"
     ]
    }
   ],
   "source": [
    "row=session.execute(\"select * from csd_db2.student\")\n",
    "for i in row:\n",
    "    print(i)"
   ]
  },
  {
   "cell_type": "markdown",
   "metadata": {},
   "source": [
    "# orderby\n",
    "You can fine-tune the display order using the ORDER BY clause. The partition key must be defined in the WHERE clause and the ORDER BY clause defines the clustering column to use for ordering.\n",
    "\n",
    "both partition and clustering keys has to be given"
   ]
  },
  {
   "cell_type": "code",
   "execution_count": 49,
   "metadata": {},
   "outputs": [
    {
     "data": {
      "text/plain": [
       "<cassandra.cluster.ResultSet at 0x23b5c765d30>"
      ]
     },
     "execution_count": 49,
     "metadata": {},
     "output_type": "execute_result"
    }
   ],
   "source": [
    "session.execute(\"create table csd_db2.student1(studentID int,name text,age int, primary key(studentID,age))\")"
   ]
  },
  {
   "cell_type": "code",
   "execution_count": 50,
   "metadata": {},
   "outputs": [
    {
     "data": {
      "text/plain": [
       "<cassandra.cluster.ResultSet at 0x23b5df68370>"
      ]
     },
     "execution_count": 50,
     "metadata": {},
     "output_type": "execute_result"
    }
   ],
   "source": [
    "batch=BatchStatement()\n",
    "studentlist=[(7,'priya7',34),(8,'priya8',23),(1,'priya8',23),(8,'priya8',24)]\n",
    "for i in studentlist:\n",
    "    batch.add(SimpleStatement('insert into csd_db2.student1(studentID,name,age) values(%s,%s,%s)'),(i[0],i[1],i[2]))\n",
    "              \n",
    "session.execute(batch)"
   ]
  },
  {
   "cell_type": "code",
   "execution_count": 51,
   "metadata": {},
   "outputs": [
    {
     "name": "stdout",
     "output_type": "stream",
     "text": [
      "Row(studentid=1, age=23, name='priya8')\n",
      "Row(studentid=8, age=23, name='priya8')\n",
      "Row(studentid=8, age=24, name='priya8')\n",
      "Row(studentid=7, age=34, name='priya7')\n"
     ]
    }
   ],
   "source": [
    "rows=session.execute('select * from csd_db2.student1')\n",
    "for i in rows:\n",
    "    print(i)"
   ]
  },
  {
   "cell_type": "code",
   "execution_count": 61,
   "metadata": {},
   "outputs": [],
   "source": [
    "rows=session.execute('select * from csd_db2.student1 where studentID = 8 order by age DESC')"
   ]
  },
  {
   "cell_type": "code",
   "execution_count": 62,
   "metadata": {},
   "outputs": [
    {
     "name": "stdout",
     "output_type": "stream",
     "text": [
      "Row(studentid=8, age=24, name='priya8')\n",
      "Row(studentid=8, age=23, name='priya8')\n"
     ]
    }
   ],
   "source": [
    "for i in rows:\n",
    "    print (i)"
   ]
  },
  {
   "cell_type": "code",
   "execution_count": 64,
   "metadata": {},
   "outputs": [
    {
     "name": "stdout",
     "output_type": "stream",
     "text": [
      "Row(studentid=8, age=24, name='priya8')\n"
     ]
    }
   ],
   "source": [
    "row= session.execute(\"select * from csd_db2.student1 where studentID=8 and age>23 \")\n",
    "for i in row:\n",
    "    print(i)"
   ]
  },
  {
   "cell_type": "code",
   "execution_count": null,
   "metadata": {},
   "outputs": [],
   "source": []
  }
 ],
 "metadata": {
  "kernelspec": {
   "display_name": "Python 3",
   "language": "python",
   "name": "python3"
  },
  "language_info": {
   "codemirror_mode": {
    "name": "ipython",
    "version": 3
   },
   "file_extension": ".py",
   "mimetype": "text/x-python",
   "name": "python",
   "nbconvert_exporter": "python",
   "pygments_lexer": "ipython3",
   "version": "3.8.5"
  }
 },
 "nbformat": 4,
 "nbformat_minor": 4
}
