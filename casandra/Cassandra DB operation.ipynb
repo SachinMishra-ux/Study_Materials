{
 "cells": [
  {
   "cell_type": "code",
   "execution_count": 89,
   "metadata": {},
   "outputs": [],
   "source": [
    "def func(**kwargs):\n",
    "    print(kwargs)\n",
    "    print('key  value')\n",
    "    print('***********')\n",
    "    for key,val in kwargs.items():\n",
    "        print(\"%-6s %-10s\"%(key,val))\n",
    "        \n",
    "        "
   ]
  },
  {
   "cell_type": "code",
   "execution_count": 90,
   "metadata": {},
   "outputs": [
    {
     "name": "stdout",
     "output_type": "stream",
     "text": [
      "{'a': 555, 'b': 444, 'c': 'deb'}\n",
      "key  value\n",
      "***********\n",
      "a      555       \n",
      "b      444       \n",
      "c      deb       \n"
     ]
    }
   ],
   "source": [
    "func(a=555,b=444,c='deb')"
   ]
  },
  {
   "cell_type": "markdown",
   "metadata": {},
   "source": [
    "#to connect to cloud\n",
    "https://auth.cloud.datastax.com/auth/realms/CloudUsers/protocol/openid-connect/auth?client_id=auth-proxy&redirect_uri=https%3A%2F%2Fgatekeeper.auth.cloud.datastax.com%2Fcallback&response_type=code&scope=openid+profile+email&state=%2Fioggi3PlZKRkb3q5s%2Bc204BGug%3D"
   ]
  },
  {
   "cell_type": "code",
   "execution_count": 1,
   "metadata": {},
   "outputs": [
    {
     "name": "stdout",
     "output_type": "stream",
     "text": [
      "Collecting cassandra-driver\n",
      "  Downloading cassandra_driver-3.25.0-cp38-cp38-win_amd64.whl (2.9 MB)Note: you may need to restart the kernel to use updated packages.\n",
      "Collecting geomet<0.3,>=0.1\n",
      "  Using cached geomet-0.2.1.post1-py3-none-any.whl (18 kB)\n",
      "Requirement already satisfied: six>=1.9 in c:\\users\\dell\\anaconda3\\lib\\site-packages (from cassandra-driver) (1.15.0)\n",
      "Requirement already satisfied: click in c:\\users\\dell\\anaconda3\\lib\\site-packages (from geomet<0.3,>=0.1->cassandra-driver) (7.1.2)\n",
      "\n",
      "Installing collected packages: geomet, cassandra-driver\n",
      "Successfully installed cassandra-driver-3.25.0 geomet-0.2.1.post1\n"
     ]
    }
   ],
   "source": [
    "pip install cassandra-driver"
   ]
  },
  {
   "cell_type": "code",
   "execution_count": 3,
   "metadata": {},
   "outputs": [
    {
     "name": "stdout",
     "output_type": "stream",
     "text": [
      "3.25.0\n"
     ]
    }
   ],
   "source": [
    "import cassandra; \n",
    "print (cassandra.__version__)"
   ]
  },
  {
   "cell_type": "code",
   "execution_count": 19,
   "metadata": {},
   "outputs": [
    {
     "name": "stdout",
     "output_type": "stream",
     "text": [
      "4.0.0.6811\n"
     ]
    }
   ],
   "source": [
    "from cassandra.cluster import Cluster\n",
    "from cassandra.auth import PlainTextAuthProvider\n",
    "\n",
    "cloud_config= {\n",
    "        'secure_connect_bundle': 'E:\\secure-connect-test123.zip'\n",
    "}\n",
    "auth_provider = PlainTextAuthProvider('PkcfitKMxsrjSfdtnKkjqXFd', 'uF.hf54vdib4n6tnahi3gf5ce.vkufF-Il9ansKjL6cOr2e7NkIk0PL9,jDe947AgO1XYaGN7mYr-Bs7+Tgwaj.pQzRav9rXyB72mZSBorp+ZQXA4etj_fJ5HJjjG2r4')\n",
    "cluster = Cluster(cloud=cloud_config, auth_provider=auth_provider)\n",
    "session = cluster.connect()\n",
    "\n",
    "row = session.execute(\"select release_version from system.local\").one()\n",
    "if row:\n",
    "    print(row[0])\n",
    "else:\n",
    "    print(\"An error occurred.\")"
   ]
  },
  {
   "cell_type": "code",
   "execution_count": 21,
   "metadata": {},
   "outputs": [
    {
     "name": "stdout",
     "output_type": "stream",
     "text": [
      "None\n"
     ]
    }
   ],
   "source": [
    "from cassandra.cluster import Cluster\n",
    "from cassandra.auth import PlainTextAuthProvider\n",
    "\n",
    "cloud_config= {\n",
    "        'secure_connect_bundle': 'E:\\secure-connect-test123.zip'\n",
    "}\n",
    "auth_provider = PlainTextAuthProvider('PkcfitKMxsrjSfdtnKkjqXFd', 'uF.hf54vdib4n6tnahi3gf5ce.vkufF-Il9ansKjL6cOr2e7NkIk0PL9,jDe947AgO1XYaGN7mYr-Bs7+Tgwaj.pQzRav9rXyB72mZSBorp+ZQXA4etj_fJ5HJjjG2r4')\n",
    "cluster = Cluster(cloud=cloud_config, auth_provider=auth_provider)\n",
    "session = cluster.connect()\n",
    "\n",
    "row = session.execute(\" CREATE TABLE ineuro.emp123(emp_id int PRIMARY KEY,emp_name text,emp_city text,emp_sal varint,emp_phone varint);\").one()\n",
    "print(row)\n"
   ]
  },
  {
   "cell_type": "code",
   "execution_count": 15,
   "metadata": {},
   "outputs": [
    {
     "data": {
      "text/plain": [
       "<cassandra.cluster.ResultSet at 0x13513b60910>"
      ]
     },
     "execution_count": 15,
     "metadata": {},
     "output_type": "execute_result"
    }
   ],
   "source": [
    "session.execute(\"create table ineuro.emp(emp_id int PRIMARY KEY,emp_name int);\")"
   ]
  },
  {
   "cell_type": "code",
   "execution_count": 18,
   "metadata": {},
   "outputs": [
    {
     "data": {
      "text/plain": [
       "<cassandra.cluster.ResultSet at 0x135139bc3a0>"
      ]
     },
     "execution_count": 18,
     "metadata": {},
     "output_type": "execute_result"
    }
   ],
   "source": [
    "session.execute(\"insert into ineuro.emp(emp_id ,emp_name) values(333,589);\")"
   ]
  },
  {
   "cell_type": "markdown",
   "metadata": {},
   "source": [
    "# Select all data from a table"
   ]
  },
  {
   "cell_type": "code",
   "execution_count": 44,
   "metadata": {},
   "outputs": [
    {
     "name": "stdout",
     "output_type": "stream",
     "text": [
      "1 2018-07-23 00:00:00 sudh 2345.0\n",
      "2 2019-11-05 00:00:00 krish 34567.0\n",
      "4 2019-07-01 00:00:00 debasish 1234.0\n",
      "3 2020-01-05 00:00:00 vinay 5689.0\n"
     ]
    }
   ],
   "source": [
    "ss= session.execute(\"select * from  ineuro.emp  ;\")\n",
    "for i in ss:\n",
    "    print(i[0],i[1],i[2],i[3])"
   ]
  },
  {
   "cell_type": "markdown",
   "metadata": {},
   "source": [
    "# Select a Specific record"
   ]
  },
  {
   "cell_type": "code",
   "execution_count": 46,
   "metadata": {},
   "outputs": [
    {
     "name": "stdout",
     "output_type": "stream",
     "text": [
      "1 | 2018-07-23 00:00:00 | sudh | 2345.0\n"
     ]
    }
   ],
   "source": [
    "ss= session.prepare(\"select * from  ineuro.emp where emp_id = ? ;\")\n",
    "\n",
    "res= session.execute(ss,[1])\n",
    "for i in res:\n",
    "    print(i[0],'|',i[1],'|',i[2],'|',i[3])"
   ]
  },
  {
   "cell_type": "markdown",
   "metadata": {},
   "source": [
    "# Insert a row into Emp"
   ]
  },
  {
   "cell_type": "code",
   "execution_count": 42,
   "metadata": {},
   "outputs": [
    {
     "data": {
      "text/plain": [
       "<cassandra.cluster.ResultSet at 0x1351521b520>"
      ]
     },
     "execution_count": 42,
     "metadata": {},
     "output_type": "execute_result"
    }
   ],
   "source": [
    "session.execute(\"INSERT INTO ineuro.emp (emp_id,doj,ename,sal) values (%s,%s,%s,%s)\",[4,'2019-07-01','debasish',1234])"
   ]
  },
  {
   "cell_type": "code",
   "execution_count": 43,
   "metadata": {},
   "outputs": [
    {
     "name": "stdout",
     "output_type": "stream",
     "text": [
      "1 2018-07-23 00:00:00 sudh 2345.0\n",
      "2 2019-11-05 00:00:00 krish 34567.0\n",
      "4 2019-07-01 00:00:00 debasish 1234.0\n",
      "3 2020-01-05 00:00:00 vinay 5689.0\n"
     ]
    }
   ],
   "source": [
    "ss= session.execute(\"select * from  ineuro.emp  ;\")\n",
    "for i in ss:\n",
    "    print(i[0],i[1],i[2],i[3])"
   ]
  },
  {
   "cell_type": "markdown",
   "metadata": {},
   "source": [
    "# Update a record in Emp"
   ]
  },
  {
   "cell_type": "code",
   "execution_count": 52,
   "metadata": {},
   "outputs": [
    {
     "data": {
      "text/plain": [
       "<cassandra.cluster.ResultSet at 0x13513df0190>"
      ]
     },
     "execution_count": 52,
     "metadata": {},
     "output_type": "execute_result"
    }
   ],
   "source": [
    "prepare_st= \"update ineuro.emp SET sal= ?,ename= ? where emp_id= ? ;\"\n",
    "prepare_ud= session.prepare(prepare_st)\n",
    "session.execute(prepare_ud,[2222,'SUDH',1])"
   ]
  },
  {
   "cell_type": "code",
   "execution_count": 53,
   "metadata": {},
   "outputs": [
    {
     "name": "stdout",
     "output_type": "stream",
     "text": [
      "1 2018-07-23 00:00:00 SUDH 2222.0\n",
      "2 2019-11-05 00:00:00 krish 34567.0\n",
      "4 2019-07-01 00:00:00 debasish 1234.0\n",
      "3 2020-01-05 00:00:00 vinay 5689.0\n"
     ]
    }
   ],
   "source": [
    "ss= session.execute(\"select * from  ineuro.emp  ;\")\n",
    "for i in ss:\n",
    "    print(i[0],i[1],i[2],i[3])"
   ]
  },
  {
   "cell_type": "markdown",
   "metadata": {},
   "source": [
    "# Insert Multiple Records to DB"
   ]
  },
  {
   "cell_type": "code",
   "execution_count": 70,
   "metadata": {},
   "outputs": [
    {
     "name": "stdout",
     "output_type": "stream",
     "text": [
      "Insert completed\n"
     ]
    }
   ],
   "source": [
    "from cassandra.query import BatchStatement\n",
    "\n",
    "qr1= \"insert into ineuro.emp (emp_id,doj,ename,sal) values(%s,%s,%s,%s)\"\n",
    "batch = BatchStatement()\n",
    "batch.add(qr1,[5,'2018-12-25 01:12:30','Vishnu',2000])\n",
    "batch.add(qr1,[6,'2019-05-12 02:10:30','Harish',1800])\n",
    "batch.add(qr1,[7,'2020-01-22 11:10:30','Rahul',5000])\n",
    "session.execute(batch)\n",
    "print('Insert completed')"
   ]
  },
  {
   "cell_type": "markdown",
   "metadata": {},
   "source": [
    "# Delete a record from EMP"
   ]
  },
  {
   "cell_type": "code",
   "execution_count": 71,
   "metadata": {},
   "outputs": [
    {
     "name": "stdout",
     "output_type": "stream",
     "text": [
      "Record deleted successfully...\n"
     ]
    }
   ],
   "source": [
    "dt_rec= \"delete from ineuro.emp where emp_id= ?;\"\n",
    "dt_st= session.prepare(dt_rec)\n",
    "session.execute(dt_st,[6])\n",
    "print('Record deleted successfully...')"
   ]
  },
  {
   "cell_type": "markdown",
   "metadata": {},
   "source": [
    "# Insert data from a CSV file to Cassandra DB"
   ]
  },
  {
   "cell_type": "code",
   "execution_count": 67,
   "metadata": {},
   "outputs": [
    {
     "name": "stdout",
     "output_type": "stream",
     "text": [
      "<_csv.reader object at 0x0000013513F4D9A0>\n",
      "Finished\n"
     ]
    }
   ],
   "source": [
    "import csv\n",
    "with open('cric.csv','r') as data:\n",
    "    next(data)\n",
    "    data_csv= csv.reader(data,delimiter=',')\n",
    "    #csv reader object\n",
    "    print(data_csv)\n",
    "    all_value= []\n",
    "    for i in data_csv:\n",
    "        session.execute(\"insert into ineuro.dataa (idd,first_name,last_name) values(%s,%s,%s)\",[int(i[0]),i[1],i[2]])\n",
    "print('Finished')"
   ]
  },
  {
   "cell_type": "code",
   "execution_count": null,
   "metadata": {},
   "outputs": [],
   "source": []
  }
 ],
 "metadata": {
  "kernelspec": {
   "display_name": "Python 3",
   "language": "python",
   "name": "python3"
  },
  "language_info": {
   "codemirror_mode": {
    "name": "ipython",
    "version": 3
   },
   "file_extension": ".py",
   "mimetype": "text/x-python",
   "name": "python",
   "nbconvert_exporter": "python",
   "pygments_lexer": "ipython3",
   "version": "3.8.5"
  }
 },
 "nbformat": 4,
 "nbformat_minor": 4
}
